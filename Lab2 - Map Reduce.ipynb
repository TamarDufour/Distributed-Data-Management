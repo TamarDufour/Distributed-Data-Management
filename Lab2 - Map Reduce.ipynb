{
 "cells": [
  {
   "cell_type": "markdown",
   "id": "d8bb0662",
   "metadata": {},
   "source": [
    "## Map Reduce"
   ]
  },
  {
   "cell_type": "code",
   "execution_count": 1,
   "id": "3bf672e2",
   "metadata": {},
   "outputs": [
    {
     "name": "stdout",
     "output_type": "stream",
     "text": [
      "Overwriting lab2_ddm.py\n"
     ]
    }
   ],
   "source": [
    "%%file lab2_ddm.py\n",
    "from mrjob.job import MRJob\n",
    "from mrjob.step import MRStep\n",
    "\n",
    "\n",
    "class most_viewed_program(MRJob):\n",
    "\n",
    "    def steps(self):\n",
    "        return [\n",
    "            MRStep(mapper=self.get_views, \n",
    "                   reducer=self.reducer_count_views), \n",
    "            MRStep(reducer=self.reducer_find_max_views)\n",
    "        ]\n",
    "\n",
    "    def get_views(self, _, line):\n",
    "        \"\"\"\n",
    "        Find viewed program during Prime-Time hours, only from stations with even ID codes:\n",
    "        \"\"\"\n",
    "        text = line.split(\",\")\n",
    "        if text[3] != \"event_time\": #if the current line is not the header\n",
    "            if ((200000 <= int(text[3]) < 230000) and ((int(text[4])%2==0))):\n",
    "                yield text[5].lower(), 1\n",
    "\n",
    "\n",
    "    def reducer_count_views(self, prog_code, counts):\n",
    "        \"\"\"\n",
    "        Send all (num_views, program) pairs to the same reducer.\n",
    "        \"\"\" \n",
    "        yield None, (sum(counts), prog_code)\n",
    "\n",
    "\n",
    "    def reducer_find_max_views(self, _, prog_views_pairs):\n",
    "        \"\"\"\n",
    "        Find the most viewed program\n",
    "        \"\"\"\n",
    "        yield max(prog_views_pairs)\n",
    "\n",
    "\n",
    "if __name__ == \"__main__\":\n",
    "    most_viewed_program.run()\n"
   ]
  },
  {
   "cell_type": "code",
   "execution_count": 2,
   "id": "d9c8a361",
   "metadata": {},
   "outputs": [
    {
     "name": "stdout",
     "output_type": "stream",
     "text": [
      "181\t\"sp003189730000\"\n"
     ]
    },
    {
     "name": "stderr",
     "output_type": "stream",
     "text": [
      "No configs found; falling back on auto-configuration\n",
      "No configs specified for inline runner\n",
      "Creating temp directory C:\\Users\\admin\\AppData\\Local\\Temp\\lab2_ddm.admin.20231115.144130.056962\n",
      "Running step 1 of 2...\n",
      "Running step 2 of 2...\n",
      "job output is in C:\\Users\\admin\\AppData\\Local\\Temp\\lab2_ddm.admin.20231115.144130.056962\\output\n",
      "Streaming final output from C:\\Users\\admin\\AppData\\Local\\Temp\\lab2_ddm.admin.20231115.144130.056962\\output...\n",
      "Removing temp directory C:\\Users\\admin\\AppData\\Local\\Temp\\lab2_ddm.admin.20231115.144130.056962...\n"
     ]
    }
   ],
   "source": [
    "! python lab2_ddm.py 10k_view_data.csv"
   ]
  }
 ],
 "metadata": {
  "kernelspec": {
   "display_name": "Python 3 (ipykernel)",
   "language": "python",
   "name": "python3"
  },
  "language_info": {
   "codemirror_mode": {
    "name": "ipython",
    "version": 3
   },
   "file_extension": ".py",
   "mimetype": "text/x-python",
   "name": "python",
   "nbconvert_exporter": "python",
   "pygments_lexer": "ipython3",
   "version": "3.9.12"
  }
 },
 "nbformat": 4,
 "nbformat_minor": 5
}
